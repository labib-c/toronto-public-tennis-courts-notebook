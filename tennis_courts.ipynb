{
  "nbformat": 4,
  "nbformat_minor": 0,
  "metadata": {
    "colab": {
      "provenance": []
    },
    "kernelspec": {
      "name": "python3",
      "display_name": "Python 3"
    },
    "language_info": {
      "name": "python"
    }
  },
  "cells": [
    {
      "cell_type": "code",
      "source": [
        "!git clone https://github.com/labib-c/toronto-public-tennis-courts-notebook.git"
      ],
      "metadata": {
        "colab": {
          "base_uri": "https://localhost:8080/"
        },
        "id": "rN7L2ejbE4Qs",
        "outputId": "fd87b76c-2494-4204-b788-107fd885a5d9"
      },
      "execution_count": 32,
      "outputs": [
        {
          "output_type": "stream",
          "name": "stdout",
          "text": [
            "Cloning into 'toronto-public-tennis-courts-notebook'...\n",
            "remote: Enumerating objects: 9, done.\u001b[K\n",
            "remote: Counting objects: 100% (9/9), done.\u001b[K\n",
            "remote: Compressing objects: 100% (9/9), done.\u001b[K\n",
            "remote: Total 9 (delta 0), reused 6 (delta 0), pack-reused 0 (from 0)\u001b[K\n",
            "Receiving objects: 100% (9/9), 211.98 KiB | 2.49 MiB/s, done.\n"
          ]
        }
      ]
    },
    {
      "cell_type": "code",
      "execution_count": 1,
      "metadata": {
        "colab": {
          "base_uri": "https://localhost:8080/"
        },
        "id": "MPxUqg329o3f",
        "outputId": "c918caa4-4f5b-4732-ad33-e96f7dd550c8"
      },
      "outputs": [
        {
          "output_type": "stream",
          "name": "stdout",
          "text": [
            "                  Location                                  Club Public Hours  \\\n",
            "0    Agincourt Tennis Club  Sundays 2 p.m. - 4 p.m.Tuesdays 4 p.m. - 6 p.m...   \n",
            "1  Bridlebrook Tennis Club                                                NaN   \n",
            "2      Albion Gardens Park                                                NaN   \n",
            "3            Amesbury Park                                                NaN   \n",
            "4            Ancaster Park                                                NaN   \n",
            "\n",
            "  Winter Play                                             Map It  \\\n",
            "0         NaN  ('27  Glen Watford Dr ', '43.7882598434', '-79...   \n",
            "1         NaN  ('111  Alamosa Dr ', '43.7810883366', '-79.369...   \n",
            "2         NaN  ('41  Deanlea Crt ', '43.7396441768', '-79.558...   \n",
            "3         Yes  ('151 Culford Rd ', '43.7061864958', '-79.4834...   \n",
            "4         NaN  ('43  Ancaster Rd ', '43.7334252351', '-79.465...   \n",
            "\n",
            "          Phone    Type Lights  Courts  \n",
            "0           311    Club    Yes       4  \n",
            "1  416-496-0225    Club     No       3  \n",
            "2           311  Public    Yes       3  \n",
            "3           311  Public     No       2  \n",
            "4           311  Public     No       3  \n"
          ]
        }
      ],
      "source": [
        "# prompt: open tennis_courts_toronto csv with pandas\n",
        "\n",
        "import pandas as pd\n",
        "\n",
        "# Assuming the file is in the current directory or specified path\n",
        "df = pd.read_csv('tennis_courts_toronto.csv')\n",
        "\n",
        "# Display the first few rows to confirm it's loaded\n",
        "print(df.head())"
      ]
    },
    {
      "cell_type": "code",
      "source": [
        "# prompt: List all courts with 5+ courts and has lights\n",
        "\n",
        "def courts_with_lights_n_courts(df, n_courts=5, has_lights=\"Yes\"):\n",
        "    filtered_df = df[(df['Courts'] >= n_courts) & (df['Lights'] == has_lights)]\n",
        "    return filtered_df\n",
        "\n",
        "filtered_courts = courts_with_lights_n_courts(df)\n",
        "# Select and print the 'Court Name' and 'Address' columns for the filtered courts\n",
        "print(\"\\nCourts with 5+ courts and lights:\")\n",
        "if not filtered_courts.empty:\n",
        "    print(filtered_courts[['Location', 'Map It', 'Courts']])\n",
        "else:\n",
        "    print(\"No courts found matching the criteria.\")"
      ],
      "metadata": {
        "colab": {
          "base_uri": "https://localhost:8080/"
        },
        "id": "ZTLPM9PS-OZz",
        "outputId": "ea736717-94f4-4f9b-f0c8-c109c1419536"
      },
      "execution_count": 29,
      "outputs": [
        {
          "output_type": "stream",
          "name": "stdout",
          "text": [
            "\n",
            "Courts with 5+ courts and lights:\n",
            "                                              Location  \\\n",
            "11                             Kew Gardens Tennis Club   \n",
            "13                                Bellbury Tennis Club   \n",
            "19   Nyta Winter Tennis Club,The Don Mills Tennis Club   \n",
            "35                                        Cosburn Park   \n",
            "41                                      Eglinton Flats   \n",
            "60                         Bayview Village Tennis Club   \n",
            "62                              Heron Park Tennis Club   \n",
            "63                                           High Park   \n",
            "64                             Howard Park Tennis Club   \n",
            "75                              Davisville Tennis Club   \n",
            "78                      Scarborough Winter Tennis Club   \n",
            "84                        Thorncliffe Park Tennis Club   \n",
            "102                             Moore Park Tennis Club   \n",
            "139                  Sir Winston Churchill Tennis Club   \n",
            "157                                Leaside Tennis Club   \n",
            "160                           Wanless Park Tennis Club   \n",
            "172                                 Valley Tennis Club   \n",
            "\n",
            "                                                Map It  Courts  \n",
            "11   ('2075  Queen St E', '43.6661298729', '-79.298...      10  \n",
            "13   ('55  Van Horne Ave. ', '43.7836678733', '-79....       5  \n",
            "19   ('120  Bond Ave ', '43.7464153718', '-79.35124...       6  \n",
            "35   ('115  Roosevelt Rd ', '43.6929471282', '-79.3...       5  \n",
            "41   ('101  Emmett Ave ', '43.6849623766', '-79.499...      13  \n",
            "60   ('1 A Hawksbury Dr ', '43.7708575539', '-79.38...       6  \n",
            "62   ('292   Manse Rd ', '43.7692842438', '-79.1772...       5  \n",
            "63   ('1873  Bloor St W', '43.6468021242', '-79.462...       7  \n",
            "64   ('1873  Bloor St W', '43.6468021242', '-79.462...       7  \n",
            "75   ('220  Davisville Ave ', '43.7006938955', '-79...       6  \n",
            "78   ('300  Silver Springs Blvd ', '43.805449053', ...       5  \n",
            "84   ('5  Leaside Park Dr ', '43.7021962957', '-79....       6  \n",
            "102  ('175  Moore Ave ', '43.6935039722', '-79.3822...       5  \n",
            "139  ('301  St. Clair Ave W', '43.6828812958', '-79...       7  \n",
            "157  ('110  Rumsey Rd ', '43.705570191', '-79.36744...       6  \n",
            "160  ('250  Wanless Ave ', '43.728932197', '-79.392...       5  \n",
            "172  ('3865  Yonge St ', '43.7404834459', '-79.4053...       5  \n"
          ]
        }
      ]
    },
    {
      "cell_type": "code",
      "source": [
        "# prompt: Using python, find the courts nearest to me. The \"Map It\" column in the df has object (\"Address\", \"Lat\", \"Long\"). Use this to list all courts sorted by distance to me\n",
        "\n",
        "import pandas as pd\n",
        "!pip install haversine\n",
        "from haversine import haversine, Unit\n",
        "\n",
        "def get_nearest_courts(df, my_location):\n",
        "  # Function to extract latitude and longitude from the 'Map It' string\n",
        "  def extract_lat_lon(map_it_string):\n",
        "      parts = map_it_string.strip(\"()\").split(',')\n",
        "      if len(parts) == 3:\n",
        "          lat = float(parts[1].replace(\"'\",\"\").strip())\n",
        "          lon = float(parts[2].replace(\"'\",\"\").strip())\n",
        "          return lat, lon\n",
        "\n",
        "  # Apply the function to create new 'Latitude' and 'Longitude' columns\n",
        "  df[['Latitude', 'Longitude']] = df['Map It'].apply(lambda x: pd.Series(extract_lat_lon(x)))\n",
        "\n",
        "  # Calculate the distance for each court to your location\n",
        "  df['Distance'] = df.apply(lambda row: haversine(my_location, (row['Latitude'], row['Longitude']), unit=Unit.MILES) if pd.notnull(row['Latitude']) else float('inf'), axis=1)\n",
        "\n",
        "  # Sort the DataFrame by distance\n",
        "  df_sorted_by_distance = df.sort_values(by='Distance')\n",
        "  return df_sorted_by_distance\n",
        "\n",
        "# Assume your current location (latitude, longitude)\n",
        "my_location = (43.6532, -79.3832) # Example: Toronto city center\n",
        "df_sorted_by_distance = get_nearest_courts(df, my_location)\n",
        "\n",
        "# Print the sorted list of courts (or a selection of columns)\n",
        "print(\"\\nAll courts sorted by distance from your location:\")\n",
        "print(df_sorted_by_distance[['Location', 'Distance']].head()) # Print the first 5 nearest courts\n"
      ],
      "metadata": {
        "colab": {
          "base_uri": "https://localhost:8080/"
        },
        "id": "qusJQed1-4Nh",
        "outputId": "8b35c76a-2eff-4569-9e19-3b0702cda936"
      },
      "execution_count": 30,
      "outputs": [
        {
          "output_type": "stream",
          "name": "stdout",
          "text": [
            "Requirement already satisfied: haversine in /usr/local/lib/python3.11/dist-packages (2.9.0)\n",
            "\n",
            "All courts sorted by distance from your location:\n",
            "                         Location  Distance\n",
            "103                     Moss Park  0.619680\n",
            "143  Stanley Park South - Toronto  1.504611\n",
            "158        Trinity Bellwoods Park  1.599219\n",
            "120                  Ramsden Park  1.677393\n",
            "122           Riverdale Park East  1.799809\n"
          ]
        }
      ]
    },
    {
      "cell_type": "code",
      "source": [
        "sorted_by_distance_filtered = get_nearest_courts(filtered_courts, my_location)\n",
        "print(\"\\nCourts with 5+ courts and lights sorted by distance from your location:\")\n",
        "print(sorted_by_distance_filtered[['Location', 'Distance']])"
      ],
      "metadata": {
        "colab": {
          "base_uri": "https://localhost:8080/"
        },
        "id": "981tToNmDGSQ",
        "outputId": "b55bb21f-d93b-4ede-9b48-b7ef9aa66bb2"
      },
      "execution_count": 31,
      "outputs": [
        {
          "output_type": "stream",
          "name": "stdout",
          "text": [
            "\n",
            "Courts with 5+ courts and lights sorted by distance from your location:\n",
            "                                              Location   Distance\n",
            "139                  Sir Winston Churchill Tennis Club   2.418781\n",
            "102                             Moore Park Tennis Club   2.785142\n",
            "75                              Davisville Tennis Club   3.292309\n",
            "157                                Leaside Tennis Club   3.703041\n",
            "84                        Thorncliffe Park Tennis Club   3.767832\n",
            "35                                        Cosburn Park   3.812685\n",
            "64                             Howard Park Tennis Club   4.005749\n",
            "63                                           High Park   4.005749\n",
            "11                             Kew Gardens Tennis Club   4.326585\n",
            "160                           Wanless Park Tennis Club   5.251274\n",
            "172                                 Valley Tennis Club   6.131049\n",
            "41                                      Eglinton Flats   6.207632\n",
            "19   Nyta Winter Tennis Club,The Don Mills Tennis Club   6.635367\n",
            "60                         Bayview Village Tennis Club   8.129366\n",
            "13                                Bellbury Tennis Club   9.080552\n",
            "78                      Scarborough Winter Tennis Club  11.220138\n",
            "62                              Heron Park Tennis Club  13.041338\n"
          ]
        },
        {
          "output_type": "stream",
          "name": "stderr",
          "text": [
            "<ipython-input-30-7e6ee889b0be>:17: SettingWithCopyWarning: \n",
            "A value is trying to be set on a copy of a slice from a DataFrame.\n",
            "Try using .loc[row_indexer,col_indexer] = value instead\n",
            "\n",
            "See the caveats in the documentation: https://pandas.pydata.org/pandas-docs/stable/user_guide/indexing.html#returning-a-view-versus-a-copy\n",
            "  df[['Latitude', 'Longitude']] = df['Map It'].apply(lambda x: pd.Series(extract_lat_lon(x)))\n",
            "<ipython-input-30-7e6ee889b0be>:20: SettingWithCopyWarning: \n",
            "A value is trying to be set on a copy of a slice from a DataFrame.\n",
            "Try using .loc[row_indexer,col_indexer] = value instead\n",
            "\n",
            "See the caveats in the documentation: https://pandas.pydata.org/pandas-docs/stable/user_guide/indexing.html#returning-a-view-versus-a-copy\n",
            "  df['Distance'] = df.apply(lambda row: haversine(my_location, (row['Latitude'], row['Longitude']), unit=Unit.MILES) if pd.notnull(row['Latitude']) else float('inf'), axis=1)\n"
          ]
        }
      ]
    }
  ]
}